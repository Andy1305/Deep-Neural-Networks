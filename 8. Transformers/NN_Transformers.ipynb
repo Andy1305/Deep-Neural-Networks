{
  "nbformat": 4,
  "nbformat_minor": 0,
  "metadata": {
    "colab": {
      "name": "NN - Transformers.ipynb",
      "provenance": [],
      "collapsed_sections": []
    },
    "kernelspec": {
      "name": "python3",
      "display_name": "Python 3"
    },
    "accelerator": "GPU"
  },
  "cells": [
    {
      "cell_type": "code",
      "metadata": {
        "colab": {
          "base_uri": "https://localhost:8080/"
        },
        "id": "Nx-bkzTuJVCL",
        "outputId": "3b56b2fa-21f1-4522-b6a1-686f3733901e"
      },
      "source": [
        "!pip install transformers\n",
        "import pandas as pd\n",
        "from sklearn.utils import shuffle\n",
        "from sklearn.model_selection import train_test_split\n",
        "from transformers import BertTokenizer, BertForSequenceClassification\n",
        "import torch\n",
        "import torch.nn as nn\n",
        "import torch.optim as optim\n",
        "import torch.nn.functional as F\n",
        "import matplotlib.pyplot as plt\n",
        "%matplotlib inline\n",
        "device = torch.device('cuda') if torch.cuda.is_available() else torch.device('cpu')"
      ],
      "execution_count": 18,
      "outputs": [
        {
          "output_type": "stream",
          "text": [
            "Requirement already satisfied: transformers in /usr/local/lib/python3.6/dist-packages (4.2.1)\n",
            "Requirement already satisfied: sacremoses in /usr/local/lib/python3.6/dist-packages (from transformers) (0.0.43)\n",
            "Requirement already satisfied: tokenizers==0.9.4 in /usr/local/lib/python3.6/dist-packages (from transformers) (0.9.4)\n",
            "Requirement already satisfied: dataclasses; python_version < \"3.7\" in /usr/local/lib/python3.6/dist-packages (from transformers) (0.8)\n",
            "Requirement already satisfied: numpy in /usr/local/lib/python3.6/dist-packages (from transformers) (1.19.5)\n",
            "Requirement already satisfied: tqdm>=4.27 in /usr/local/lib/python3.6/dist-packages (from transformers) (4.41.1)\n",
            "Requirement already satisfied: regex!=2019.12.17 in /usr/local/lib/python3.6/dist-packages (from transformers) (2019.12.20)\n",
            "Requirement already satisfied: importlib-metadata; python_version < \"3.8\" in /usr/local/lib/python3.6/dist-packages (from transformers) (3.3.0)\n",
            "Requirement already satisfied: requests in /usr/local/lib/python3.6/dist-packages (from transformers) (2.23.0)\n",
            "Requirement already satisfied: filelock in /usr/local/lib/python3.6/dist-packages (from transformers) (3.0.12)\n",
            "Requirement already satisfied: packaging in /usr/local/lib/python3.6/dist-packages (from transformers) (20.8)\n",
            "Requirement already satisfied: six in /usr/local/lib/python3.6/dist-packages (from sacremoses->transformers) (1.15.0)\n",
            "Requirement already satisfied: joblib in /usr/local/lib/python3.6/dist-packages (from sacremoses->transformers) (1.0.0)\n",
            "Requirement already satisfied: click in /usr/local/lib/python3.6/dist-packages (from sacremoses->transformers) (7.1.2)\n",
            "Requirement already satisfied: typing-extensions>=3.6.4; python_version < \"3.8\" in /usr/local/lib/python3.6/dist-packages (from importlib-metadata; python_version < \"3.8\"->transformers) (3.7.4.3)\n",
            "Requirement already satisfied: zipp>=0.5 in /usr/local/lib/python3.6/dist-packages (from importlib-metadata; python_version < \"3.8\"->transformers) (3.4.0)\n",
            "Requirement already satisfied: urllib3!=1.25.0,!=1.25.1,<1.26,>=1.21.1 in /usr/local/lib/python3.6/dist-packages (from requests->transformers) (1.24.3)\n",
            "Requirement already satisfied: idna<3,>=2.5 in /usr/local/lib/python3.6/dist-packages (from requests->transformers) (2.10)\n",
            "Requirement already satisfied: chardet<4,>=3.0.2 in /usr/local/lib/python3.6/dist-packages (from requests->transformers) (3.0.4)\n",
            "Requirement already satisfied: certifi>=2017.4.17 in /usr/local/lib/python3.6/dist-packages (from requests->transformers) (2020.12.5)\n",
            "Requirement already satisfied: pyparsing>=2.0.2 in /usr/local/lib/python3.6/dist-packages (from packaging->transformers) (2.4.7)\n"
          ],
          "name": "stdout"
        }
      ]
    },
    {
      "cell_type": "code",
      "metadata": {
        "colab": {
          "base_uri": "https://localhost:8080/",
          "height": 1000
        },
        "id": "yCmcc1GQK69I",
        "outputId": "cc94548b-0a66-43fe-e7cd-8d7d5caa10af"
      },
      "source": [
        "df_fake = pd.read_csv('Fake.csv')\n",
        "df_real = pd.read_csv('True.csv')\n",
        "df_fake['fake'] = 1\n",
        "df_real['fake'] = 0\n",
        "df = pd.concat([df_fake, df_real], axis=0)\n",
        "df = shuffle(df).reset_index(drop=True)\n",
        "df.head(2)"
      ],
      "execution_count": 19,
      "outputs": [
        {
          "output_type": "execute_result",
          "data": {
            "text/html": [
              "<div>\n",
              "<style scoped>\n",
              "    .dataframe tbody tr th:only-of-type {\n",
              "        vertical-align: middle;\n",
              "    }\n",
              "\n",
              "    .dataframe tbody tr th {\n",
              "        vertical-align: top;\n",
              "    }\n",
              "\n",
              "    .dataframe thead th {\n",
              "        text-align: right;\n",
              "    }\n",
              "</style>\n",
              "<table border=\"1\" class=\"dataframe\">\n",
              "  <thead>\n",
              "    <tr style=\"text-align: right;\">\n",
              "      <th></th>\n",
              "      <th>title</th>\n",
              "      <th>text</th>\n",
              "      <th>subject</th>\n",
              "      <th>date</th>\n",
              "      <th>fake</th>\n",
              "    </tr>\n",
              "  </thead>\n",
              "  <tbody>\n",
              "    <tr>\n",
              "      <th>0</th>\n",
              "      <td>Hurricane Irma will 'devastate' part of U.S.: emergency services head</td>\n",
              "      <td>WASHINGTON (Reuters) - Anticipating that Hurricane Irma will  devastate  part of the United States, U.S. officials were preparing a massive response to the storm, the head of the Federal Emergency Management Agency (FEMA) said on Friday. With Irma set to hit Florida as early as Saturday night, parts of Florida was expected to lose electricity for days, if not longer, and more than 100,000 people may need shelter, FEMA Administrator Brock Long warned at a news conference.  Hurricane Irma continues to be a threat that is going to devastate the United States in either Florida or some of the southeastern states,  Long said. Irma was a Category 5 hurricane, the most dangerous measure by the National Hurricane Center, before being downgraded to Category 4 early Friday after pummeling islands in the Caribbean. The United States has experienced only three Category 5 storms since 1851 and Irma is far larger than the last one to hit the United States in 1992, Hurricane Andrew, according to Long. He warned people not to ignore evacuation orders.  They need to get out and listen and heed the warnings,  Long said. Officials have thousands of personnel ready to respond and millions of meals and liters of water in place nearby, Long said. The National Weather Service said that Friday was the last day to evacuate before winds would start to reach unsafe speeds in Florida. Airlines added extra flights from Florida on Thursday before announcing plans to halt service from some southern Florida airports starting Friday afternoon. U.S. Health and Human Services Secretary Tom Price called Irma a  remarkably dangerous storm and the window to get yourself in the right spot ... is closing rapidly.  Price said the main hospital in St. Thomas in the U.S. Virgin Islands was closed after being damaged by Irma, and critically ill patients were being evacuated to Puerto Rico or other islands. On Friday, the U.S. House of Representatives voted 316-90 to approve a measure to more than double funding to $15.25 billion for FEMA and local block grants to handle natural disasters after the Senate passed the measure Thursday, 80-17. FEMA s disaster assistance fund could have run out of money Friday without action. President Donald Trump is expected to sign the measure Friday. The measure also extends the life of the National Flood Insurance Program through Dec. 5. It had been set to expire Sept. 30.</td>\n",
              "      <td>worldnews</td>\n",
              "      <td>September 8, 2017</td>\n",
              "      <td>0</td>\n",
              "    </tr>\n",
              "    <tr>\n",
              "      <th>1</th>\n",
              "      <td>Daniel Greenfield: Why Obama Really Spied On Trump: ‘It’s not just ideology. It’s raw fear.’</td>\n",
              "      <td>Daniel Greenfield s take on why Obama spied on Trump is the best yet. He takes you through the twists and turns to expose Obama and his cronies for the liars and cheats they are. We d love to know what you think about this take on why things happened the way they did:Last week, CNN revealed (and excused) one phase of the Obama spying operation on Trump. After lying about it on MSNBC, Susan Rice admitted unmasking the identities of Trump officials to Congress.ACKNOWLEDGED IN A LETTER FROM NUNES AND GOWDY:Rice was unmasking the names of Trump officials a month before leaving office. The targets may have included her own successor, General Flynn, who was forced out of office using leaked surveillance.SUSAN RICE LYING ABOUT THE UNMASKING   IS ANYONE SURPRISED? I know nothing about this. I was surprised to see reports from Chairman Nunes on that count today. What she says is a lie but who is surprised by this? We know that Susan Rice lied 5 times on 5 different morning shows the morning after Benghazi. Why wouldn t she try and cover this spying up to protect herself and others including Obama.Susan Rice is also giving conflicting stories on what she did so it might be a good idea for her to lawyer up right now. She claimed ignorance of the unmasking and spying but today she spoke about doing it. Yes, red flags are everywhere on this! The reality and truth is this was more of a political attack to destabilize the Trump presidency and embarrass him:Andrew McCarthy said it best: The national-security adviser is not an investigator. She is a White House staffer. The president s staff is a consumer of intelligence, not a generator or collector of it. If Susan Rice was unmasking Americans, it was not to fulfill an intelligence need based on American interests; it was to fulfill a political desire based on Democratic-party interests. GREENFIELD:  LAWS WERE BROKEN The bottom line is that laws were broken when the names were unmasked Someone s in BIG trouble! While Rice s targets weren t named, the CNN story listed a meeting with Flynn, Bannon and Kushner.Bannon was Trump s former campaign chief executive and a senior adviser. Kushner is a senior adviser. Those are exactly the people you spy on to get an insight into what your political opponents plan to do.Now the latest CNN spin piece informs us that secret FISA orders were used to spy on the conversations of Trump s former campaign chairman, Paul Manafort (SEE CLAPPER VIDEO BELOW). The surveillance was discontinued for lack of evidence and then renewed under a new warrant. This is part of a pattern of FISA abuses by Obama Inc. which never allowed minor matters like lack of evidence to dissuade them from new FISA requests. Its possible  President Trump s voice was picked up in a wiretap of Paul Manafort, says former spy chief Clapper https://t.co/2ELM48axAa  CNN (@CNN) September 21, 2017Desperate Obama cronies had figured out that they could bypass many of the limitations on the conventional investigations of their political opponents by  laundering  them through national security.If any of Trump s people were talking to non-Americans, the Foreign Intelligence Surveillance Act (FISA) could be used to spy on them. And then the redacted names of the Americans could be unmasked by Susan Rice, Samantha Power and other Obama allies. It was a technically legal Watergate.If both CNN stories hold up, then Obama Inc. had spied on two Trump campaign leaders.Furthermore the Obama espionage operation closely tracked Trump s political progress. The first FISA request targeting Trump happened the month after he received the GOP nomination. The second one came through in October: the traditional month of political surprises meant to upend an election.The spying ramped up after Trump s win when the results could no longer be used to engineer a Hillary victory, but would instead have to be used to cripple and bring down President Trump. Headed out the door, Rice was still unmasking the names of Trump s people while Obama was making it easier to pass around raw eavesdropped data to other agencies.Obama had switched from spying on a political opponent to win an election, to spying on his successor to undo the results of the election.RICE AND POWER WERE USED TO  UNMASK  TRUMP ASSOCIATES    ALL THE PRESIDENT S WOMEN? Notice how uncomfortable Brennan is when asked about the Ambassador Power:Abuse of power by a sitting government had become subversion of the government by an outgoing administration. Domestic spying on opponents had become a coup.The Democrat scandals of the past few administrations have hinged on gross violations of political norms, elementary ethics and the rule of law that, out of context, were not technically illegal.But it s the pattern that makes the crime. It s the context that shows the motive.Obama Inc. compartmentalized its espionage operation in individual acts of surveillance and unmasking, and general policies implemented to aid both, that may have been individually legal, in the purely technical sense, in order to commit the major crime of eavesdropping on the political opposition.When the individual acts of surveillance are described as legal, that s irrelevant. It s the collective pattern of surveillance of the political opposition that exposes the criminal motive for them.If Obama spied on two of Trump s campaign leaders, that s not a coincidence. It s a pattern.A criminal motive can be spotted by a consistent pattern of actions disguised by different pretexts. A dirty cop may lose two pieces of evidence from the same defendant while giving two different excuses. A shady accountant may explain two otherwise identical losses in two different ways. Both excuses are technically plausible. But it s the pattern that makes the crime.Manafort was spied on under the Russia pretext. Bannon may have been spied on over the UAE. That s two different countries, two different people and two different pretexts.But one single target. President Trump.It s the pattern that exposes the motive.When we learn the whole truth (if we ever do), we will likely discover that Obama Inc. assembled a motley collection of different technically legal pretexts to spy on Trump s team.Each individual pretext might be technically defensible. But together they add up to the crime of the century.Obama s gamble was that the illegal surveillance would justify itself. If you spy on a bunch of people long enough, especially people in politics and business, some sort of illegality, actual or technical, is bound to turn up. That s the same gamble anyone engaged in illegal surveillance makes.Businessmen illegally tape conversations with former partners hoping that they ll say something damning enough to justify the risk. That was what Obama and his allies were doing with Trump.It s a crime. And you can t justify committing a crime by discovering a crime.If everyone were being spied on all the time, many crimes could be exposed every second. But that s not how our system works. That s why we have a Fourth Amendment.Nor was Obama Inc. trying to expose crimes for their own sake, but to bring down the opposition.That s why it doesn t matter what results the Obama surveillance turned up. The surveillance was a crime. Anything turned up by it is the fruit of a poisonous tree. It s inherently illegitimate.The first and foremost agenda must be to assemble a list of Trump officials who were spied on and the pretexts under which they were spied upon. The pattern will show the crime. And that s what Obama and his allies are terrified of. It s why Flynn was forced out using illegal surveillance and leaks. It s why McMaster is protecting Susan Rice and the Obama holdovers while purging Trump loyalists at the NSC.The left s gamble was that the Mueller investigation or some other illegitimate spawn of the Obama eavesdropping would produce an indictment and then the procedural questions wouldn t matter.It s the dirty cop using illegal eavesdropping to generate leads for a  clean  case against his target while betting that no one will look too closely or care how the case was generated. If one of the Mueller targets is intimidated into making a deal, the question of how the case was generated won t matter.Mueller will have a cooperative witness. And the Democrats can begin their coup in earnest. It will eventually turn out that there is no  there  there. But by then, it ll be time for President Booker.There s just one problem.If the gamble fails, if no criminal case that amounts to anything more than the usual investigational gimmick charges like perjury (the Federal equivalent of  resisting arrest  for a beat cop) develops, then Obama and his allies are on the hook for the domestic surveillance of their political opponents.With nothing to show for it and no way to distract from it.That s the race against the clock that is happening right now. Either the investigation gets results. Or its perpetrators are left hanging in the wind. If McMaster is fired, which on purely statistical grounds he probably will be, and a Trump loyalist who wasn t targeted by the surveillance operation becomes the next National Security Adviser and brings in Trump loyalists, as Flynn tried to do, then it s over.And the Dems finally get their Watergate. Except the star won t be Trump, it will be Obama. Rice, Power, Lynch and the rest of the gang will be the new Haldeman, Ehrlichman and Mitchell.Once Obama and his allies launched their domestic surveillance operation, they crossed the Rubicon. And there was no way back. They had to destroy President Trump or risk going to jail.The more crimes they committed by spying on the opposition, the more urgently they needed to bring down Trump. The consequences of each crime that they had committed spurred them on to commit worse crimes to save themselves from going to jail. It s the same old story when it comes to criminals.Each act of illegal surveillance became more blatant. And when illegal surveillance couldn t stop Trump s victory, they had to double down on the illegal surveillance for a coup.The more Obama spied on Trump, the more he had to keep doing it. This time it was bound to pay off.Obama and his allies had violated the norms so often for their policy goals that they couldn t afford to be replaced by anyone but one of their own. The more Obama relied on the imperial presidency of executive orders, the less he could afford to be replaced by anyone who would undo them. The more his staffers lied and broke the law on everything from the government shutdown to the Iran nuke sellout, the more desperately they needed to pull out all the stops to keep Trump out of office. And the more they did it, the more they couldn t afford not to do it. Abuse of power locks you into the loop familiar to all dictators. You can t stop riding the tiger. Once you start, you can t afford to stop.If you want to understand why Samantha Power was unmasking names, that s why. The hysterical obsession with destroying Trump comes from the top down. It s not just ideology. It s wealthy and powerful men and women who ran the country and are terrified that their crimes will be exposed.It s why the media increasingly sounds like the propaganda organs of a Communist country. Why there are street riots and why the internet is being censored by Google and Facebook s  fact checking  allies.It s not just ideology. It s raw fear.The left is sitting on the biggest crime committed by a sitting president. The only way to cover it up is to destroy his Republican successor.A turning point in history is here.If Obama goes down, the left will go down with him. If his coup succeeds, then America ends.Read more from Daniel Greenfield</td>\n",
              "      <td>politics</td>\n",
              "      <td>Sep 21, 2017</td>\n",
              "      <td>1</td>\n",
              "    </tr>\n",
              "  </tbody>\n",
              "</table>\n",
              "</div>"
            ],
            "text/plain": [
              "                                                                                          title  \\\n",
              "0                         Hurricane Irma will 'devastate' part of U.S.: emergency services head   \n",
              "1  Daniel Greenfield: Why Obama Really Spied On Trump: ‘It’s not just ideology. It’s raw fear.’   \n",
              "\n",
              "                                                                                                                                                                                                                                                                                                                                                                                                                                                                                                                                                                                                                                                                                                                                                                                                                                                                                                                                                                                                                                                                                                                                                                                                                                                                                                                                                                                                                                                                                                                                                                                                                                                                                                                                                                                                                                                                                                                                                                                                                                                                                                                                                                                                                                                                                                                                                                                                                                                                                                                                                                                                                                                                                                                                                                                                                                                                                                                                                                                                                                                                                                                                                                                                                                                                                                                                                                                                                                                                                                                                                                                                                                                                                                                                                                                                                                                                                                                                                                                                                                                                                                                                                                                                                                                                                                                                                                                                                                                                                                                                                                                                                                                                                                                                                                                                                                                                                                                                                                                                                                                                                                                                                                                                                                                                                                                                                                                                                                                                                                                                                                                                                                                                                                                                                                                                                                                                                                                                                                                                                                                                                                                                                                                                                                                                                                                                                                                                                                                                                                                                                                                                                                                                                                                                                                                                                                                                                                                                                                                                                                                                                                                                                                                                                                                                                                                                                                                                                                                                                                                                                                                                                                                                                                                                                                                                                                                                                                                                                                                                                                                                                                                                                                                                                                                                                                                                                                                                                                                                                                                                                                                                                                                                                                                                                                                                                                                                                                                                                                                                                                                                                                                                                                                                                                                                                                                                                                                                                                                                                                                                                                                                                                                                                                                                                                                                                                                                                                                                                                                                                                                                                                                                                                                                                                                                                                                                                                                                                                                                                                                                                                                                                                                                                                                                                                                                                                                                                                                                                                                                                                                                                                                                                                                                                                                                                                                                                                                                                                                                                                                                                                                                                                                                                                                                                                                                                                                                                                                                                                                                                                                                                                                                                                                                            text  \\\n",
              "0                                                                                                                                                                                                                                                                                                                                                                                                                                                                                                                                                                                                                                                                                                                                                                                                                                                                                                                                                                                                                                                                                                                                                                                                                                                                                                                                                                                                                                                                                                                                                                                                                                                                                                                                                                                                                                                                                                                                                                                                                                                                                                                                                                                                                                                                                                                                                                                                                                                                                                                                                                                                                                                                                                                                                                                                                                                                                                                                                                                                                                                                                                                                                                                                                                                                                                                                                                                                                                                                                                                                                                                                                                                                                                                                                                                                                                                                                                                                                                                                                                                                                                                                                                                                                                                                                                                                                                                                                                                                                                                                                                                                                                                                                                                                                                                                                                                                                                                                                                                                                                                                                                                                                                                                                                                                                                                                                                                                                                                                                                                                                                                                                                                                                                                                                                                                                                                                                                                                                                                                                                                                                                                                                                                                                                                                                                                                                                                                                                                                                                                                                                                                                                                                                                                                                                                                                                                                                                                                                                                                                                                                                                                                                                                                                                                                                                                                                                                                                                                                                                                                                                                                                                                                                                                                                                                                                                                                                                                                                                                                                                                                                                                                                                                                                                                                                                                                                                                                                                                                                                                                                                                                                                                                                                                                                                                                                                                                                                                                                                                                                                                                                                                                                                                                                                                                                                                                                                                                                                                                                                                                                                                                                                                                                                          WASHINGTON (Reuters) - Anticipating that Hurricane Irma will  devastate  part of the United States, U.S. officials were preparing a massive response to the storm, the head of the Federal Emergency Management Agency (FEMA) said on Friday. With Irma set to hit Florida as early as Saturday night, parts of Florida was expected to lose electricity for days, if not longer, and more than 100,000 people may need shelter, FEMA Administrator Brock Long warned at a news conference.  Hurricane Irma continues to be a threat that is going to devastate the United States in either Florida or some of the southeastern states,  Long said. Irma was a Category 5 hurricane, the most dangerous measure by the National Hurricane Center, before being downgraded to Category 4 early Friday after pummeling islands in the Caribbean. The United States has experienced only three Category 5 storms since 1851 and Irma is far larger than the last one to hit the United States in 1992, Hurricane Andrew, according to Long. He warned people not to ignore evacuation orders.  They need to get out and listen and heed the warnings,  Long said. Officials have thousands of personnel ready to respond and millions of meals and liters of water in place nearby, Long said. The National Weather Service said that Friday was the last day to evacuate before winds would start to reach unsafe speeds in Florida. Airlines added extra flights from Florida on Thursday before announcing plans to halt service from some southern Florida airports starting Friday afternoon. U.S. Health and Human Services Secretary Tom Price called Irma a  remarkably dangerous storm and the window to get yourself in the right spot ... is closing rapidly.  Price said the main hospital in St. Thomas in the U.S. Virgin Islands was closed after being damaged by Irma, and critically ill patients were being evacuated to Puerto Rico or other islands. On Friday, the U.S. House of Representatives voted 316-90 to approve a measure to more than double funding to $15.25 billion for FEMA and local block grants to handle natural disasters after the Senate passed the measure Thursday, 80-17. FEMA s disaster assistance fund could have run out of money Friday without action. President Donald Trump is expected to sign the measure Friday. The measure also extends the life of the National Flood Insurance Program through Dec. 5. It had been set to expire Sept. 30.    \n",
              "1  Daniel Greenfield s take on why Obama spied on Trump is the best yet. He takes you through the twists and turns to expose Obama and his cronies for the liars and cheats they are. We d love to know what you think about this take on why things happened the way they did:Last week, CNN revealed (and excused) one phase of the Obama spying operation on Trump. After lying about it on MSNBC, Susan Rice admitted unmasking the identities of Trump officials to Congress.ACKNOWLEDGED IN A LETTER FROM NUNES AND GOWDY:Rice was unmasking the names of Trump officials a month before leaving office. The targets may have included her own successor, General Flynn, who was forced out of office using leaked surveillance.SUSAN RICE LYING ABOUT THE UNMASKING   IS ANYONE SURPRISED? I know nothing about this. I was surprised to see reports from Chairman Nunes on that count today. What she says is a lie but who is surprised by this? We know that Susan Rice lied 5 times on 5 different morning shows the morning after Benghazi. Why wouldn t she try and cover this spying up to protect herself and others including Obama.Susan Rice is also giving conflicting stories on what she did so it might be a good idea for her to lawyer up right now. She claimed ignorance of the unmasking and spying but today she spoke about doing it. Yes, red flags are everywhere on this! The reality and truth is this was more of a political attack to destabilize the Trump presidency and embarrass him:Andrew McCarthy said it best: The national-security adviser is not an investigator. She is a White House staffer. The president s staff is a consumer of intelligence, not a generator or collector of it. If Susan Rice was unmasking Americans, it was not to fulfill an intelligence need based on American interests; it was to fulfill a political desire based on Democratic-party interests. GREENFIELD:  LAWS WERE BROKEN The bottom line is that laws were broken when the names were unmasked Someone s in BIG trouble! While Rice s targets weren t named, the CNN story listed a meeting with Flynn, Bannon and Kushner.Bannon was Trump s former campaign chief executive and a senior adviser. Kushner is a senior adviser. Those are exactly the people you spy on to get an insight into what your political opponents plan to do.Now the latest CNN spin piece informs us that secret FISA orders were used to spy on the conversations of Trump s former campaign chairman, Paul Manafort (SEE CLAPPER VIDEO BELOW). The surveillance was discontinued for lack of evidence and then renewed under a new warrant. This is part of a pattern of FISA abuses by Obama Inc. which never allowed minor matters like lack of evidence to dissuade them from new FISA requests. Its possible  President Trump s voice was picked up in a wiretap of Paul Manafort, says former spy chief Clapper https://t.co/2ELM48axAa  CNN (@CNN) September 21, 2017Desperate Obama cronies had figured out that they could bypass many of the limitations on the conventional investigations of their political opponents by  laundering  them through national security.If any of Trump s people were talking to non-Americans, the Foreign Intelligence Surveillance Act (FISA) could be used to spy on them. And then the redacted names of the Americans could be unmasked by Susan Rice, Samantha Power and other Obama allies. It was a technically legal Watergate.If both CNN stories hold up, then Obama Inc. had spied on two Trump campaign leaders.Furthermore the Obama espionage operation closely tracked Trump s political progress. The first FISA request targeting Trump happened the month after he received the GOP nomination. The second one came through in October: the traditional month of political surprises meant to upend an election.The spying ramped up after Trump s win when the results could no longer be used to engineer a Hillary victory, but would instead have to be used to cripple and bring down President Trump. Headed out the door, Rice was still unmasking the names of Trump s people while Obama was making it easier to pass around raw eavesdropped data to other agencies.Obama had switched from spying on a political opponent to win an election, to spying on his successor to undo the results of the election.RICE AND POWER WERE USED TO  UNMASK  TRUMP ASSOCIATES    ALL THE PRESIDENT S WOMEN? Notice how uncomfortable Brennan is when asked about the Ambassador Power:Abuse of power by a sitting government had become subversion of the government by an outgoing administration. Domestic spying on opponents had become a coup.The Democrat scandals of the past few administrations have hinged on gross violations of political norms, elementary ethics and the rule of law that, out of context, were not technically illegal.But it s the pattern that makes the crime. It s the context that shows the motive.Obama Inc. compartmentalized its espionage operation in individual acts of surveillance and unmasking, and general policies implemented to aid both, that may have been individually legal, in the purely technical sense, in order to commit the major crime of eavesdropping on the political opposition.When the individual acts of surveillance are described as legal, that s irrelevant. It s the collective pattern of surveillance of the political opposition that exposes the criminal motive for them.If Obama spied on two of Trump s campaign leaders, that s not a coincidence. It s a pattern.A criminal motive can be spotted by a consistent pattern of actions disguised by different pretexts. A dirty cop may lose two pieces of evidence from the same defendant while giving two different excuses. A shady accountant may explain two otherwise identical losses in two different ways. Both excuses are technically plausible. But it s the pattern that makes the crime.Manafort was spied on under the Russia pretext. Bannon may have been spied on over the UAE. That s two different countries, two different people and two different pretexts.But one single target. President Trump.It s the pattern that exposes the motive.When we learn the whole truth (if we ever do), we will likely discover that Obama Inc. assembled a motley collection of different technically legal pretexts to spy on Trump s team.Each individual pretext might be technically defensible. But together they add up to the crime of the century.Obama s gamble was that the illegal surveillance would justify itself. If you spy on a bunch of people long enough, especially people in politics and business, some sort of illegality, actual or technical, is bound to turn up. That s the same gamble anyone engaged in illegal surveillance makes.Businessmen illegally tape conversations with former partners hoping that they ll say something damning enough to justify the risk. That was what Obama and his allies were doing with Trump.It s a crime. And you can t justify committing a crime by discovering a crime.If everyone were being spied on all the time, many crimes could be exposed every second. But that s not how our system works. That s why we have a Fourth Amendment.Nor was Obama Inc. trying to expose crimes for their own sake, but to bring down the opposition.That s why it doesn t matter what results the Obama surveillance turned up. The surveillance was a crime. Anything turned up by it is the fruit of a poisonous tree. It s inherently illegitimate.The first and foremost agenda must be to assemble a list of Trump officials who were spied on and the pretexts under which they were spied upon. The pattern will show the crime. And that s what Obama and his allies are terrified of. It s why Flynn was forced out using illegal surveillance and leaks. It s why McMaster is protecting Susan Rice and the Obama holdovers while purging Trump loyalists at the NSC.The left s gamble was that the Mueller investigation or some other illegitimate spawn of the Obama eavesdropping would produce an indictment and then the procedural questions wouldn t matter.It s the dirty cop using illegal eavesdropping to generate leads for a  clean  case against his target while betting that no one will look too closely or care how the case was generated. If one of the Mueller targets is intimidated into making a deal, the question of how the case was generated won t matter.Mueller will have a cooperative witness. And the Democrats can begin their coup in earnest. It will eventually turn out that there is no  there  there. But by then, it ll be time for President Booker.There s just one problem.If the gamble fails, if no criminal case that amounts to anything more than the usual investigational gimmick charges like perjury (the Federal equivalent of  resisting arrest  for a beat cop) develops, then Obama and his allies are on the hook for the domestic surveillance of their political opponents.With nothing to show for it and no way to distract from it.That s the race against the clock that is happening right now. Either the investigation gets results. Or its perpetrators are left hanging in the wind. If McMaster is fired, which on purely statistical grounds he probably will be, and a Trump loyalist who wasn t targeted by the surveillance operation becomes the next National Security Adviser and brings in Trump loyalists, as Flynn tried to do, then it s over.And the Dems finally get their Watergate. Except the star won t be Trump, it will be Obama. Rice, Power, Lynch and the rest of the gang will be the new Haldeman, Ehrlichman and Mitchell.Once Obama and his allies launched their domestic surveillance operation, they crossed the Rubicon. And there was no way back. They had to destroy President Trump or risk going to jail.The more crimes they committed by spying on the opposition, the more urgently they needed to bring down Trump. The consequences of each crime that they had committed spurred them on to commit worse crimes to save themselves from going to jail. It s the same old story when it comes to criminals.Each act of illegal surveillance became more blatant. And when illegal surveillance couldn t stop Trump s victory, they had to double down on the illegal surveillance for a coup.The more Obama spied on Trump, the more he had to keep doing it. This time it was bound to pay off.Obama and his allies had violated the norms so often for their policy goals that they couldn t afford to be replaced by anyone but one of their own. The more Obama relied on the imperial presidency of executive orders, the less he could afford to be replaced by anyone who would undo them. The more his staffers lied and broke the law on everything from the government shutdown to the Iran nuke sellout, the more desperately they needed to pull out all the stops to keep Trump out of office. And the more they did it, the more they couldn t afford not to do it. Abuse of power locks you into the loop familiar to all dictators. You can t stop riding the tiger. Once you start, you can t afford to stop.If you want to understand why Samantha Power was unmasking names, that s why. The hysterical obsession with destroying Trump comes from the top down. It s not just ideology. It s wealthy and powerful men and women who ran the country and are terrified that their crimes will be exposed.It s why the media increasingly sounds like the propaganda organs of a Communist country. Why there are street riots and why the internet is being censored by Google and Facebook s  fact checking  allies.It s not just ideology. It s raw fear.The left is sitting on the biggest crime committed by a sitting president. The only way to cover it up is to destroy his Republican successor.A turning point in history is here.If Obama goes down, the left will go down with him. If his coup succeeds, then America ends.Read more from Daniel Greenfield   \n",
              "\n",
              "     subject                date  fake  \n",
              "0  worldnews  September 8, 2017      0  \n",
              "1   politics        Sep 21, 2017     1  "
            ]
          },
          "metadata": {
            "tags": []
          },
          "execution_count": 19
        }
      ]
    },
    {
      "cell_type": "code",
      "metadata": {
        "colab": {
          "base_uri": "https://localhost:8080/"
        },
        "id": "XI4O5ckH-Fgp",
        "outputId": "c8c1f60c-cdba-4d7a-c4c0-62af00d0f3c8"
      },
      "source": [
        "df.shape"
      ],
      "execution_count": 20,
      "outputs": [
        {
          "output_type": "execute_result",
          "data": {
            "text/plain": [
              "(44898, 5)"
            ]
          },
          "metadata": {
            "tags": []
          },
          "execution_count": 20
        }
      ]
    },
    {
      "cell_type": "code",
      "metadata": {
        "colab": {
          "base_uri": "https://localhost:8080/"
        },
        "id": "4W-MKwjfLUbe",
        "outputId": "c7200d97-c547-4088-d168-7d95f55f327e"
      },
      "source": [
        "X_train, X_test, y_train, y_test = train_test_split(df.drop(['fake'],axis=1), df['fake'], test_size=0.2, random_state=0)\n",
        "tokenizer = BertTokenizer.from_pretrained(\"bert-base-uncased\")\n",
        "model = BertForSequenceClassification.from_pretrained(\"bert-base-uncased\")\n",
        "model.config.num_labels = 1\n",
        "# train the whole model\n",
        "for param in model.parameters():\n",
        "    param.requires_grad = False\n",
        "\n",
        "# add three new layers at the end of the network\n",
        "model.classifier = nn.Sequential(\n",
        "    nn.Linear(768, 256),\n",
        "    nn.ReLU(),\n",
        "    nn.Linear(256, 64),\n",
        "    nn.ReLU(),\n",
        "    nn.Linear(64, 2),\n",
        "    nn.Softmax(dim=1)\n",
        ")\n",
        "\n",
        "model = model.to(device)\n",
        "criterion = nn.MSELoss().to(device)\n",
        "optimizer = optim.SGD(model.classifier.parameters(), lr=0.01)"
      ],
      "execution_count": 21,
      "outputs": [
        {
          "output_type": "stream",
          "text": [
            "Some weights of the model checkpoint at bert-base-uncased were not used when initializing BertForSequenceClassification: ['cls.predictions.bias', 'cls.predictions.transform.dense.weight', 'cls.predictions.transform.dense.bias', 'cls.predictions.decoder.weight', 'cls.seq_relationship.weight', 'cls.seq_relationship.bias', 'cls.predictions.transform.LayerNorm.weight', 'cls.predictions.transform.LayerNorm.bias']\n",
            "- This IS expected if you are initializing BertForSequenceClassification from the checkpoint of a model trained on another task or with another architecture (e.g. initializing a BertForSequenceClassification model from a BertForPreTraining model).\n",
            "- This IS NOT expected if you are initializing BertForSequenceClassification from the checkpoint of a model that you expect to be exactly identical (initializing a BertForSequenceClassification model from a BertForSequenceClassification model).\n",
            "Some weights of BertForSequenceClassification were not initialized from the model checkpoint at bert-base-uncased and are newly initialized: ['classifier.weight', 'classifier.bias']\n",
            "You should probably TRAIN this model on a down-stream task to be able to use it for predictions and inference.\n"
          ],
          "name": "stderr"
        }
      ]
    },
    {
      "cell_type": "code",
      "metadata": {
        "id": "cHC9BoNALcJa"
      },
      "source": [
        "def preprocess_text(text):\n",
        "    parts = []\n",
        "    text_len = len(text.split(' '))\n",
        "    delta = 300\n",
        "    max_parts = 5\n",
        "    nb_cuts = int(text_len / delta)\n",
        "    nb_cuts = min(nb_cuts, max_parts)\n",
        "    \n",
        "    for i in range(nb_cuts + 1):\n",
        "        text_part = ' '.join(text.split(' ')[i * delta: (i + 1) * delta])\n",
        "        parts.append(tokenizer.encode(text_part, return_tensors=\"pt\", max_length=500).to(device))\n",
        "\n",
        "    return parts"
      ],
      "execution_count": 22,
      "outputs": []
    },
    {
      "cell_type": "code",
      "metadata": {
        "colab": {
          "base_uri": "https://localhost:8080/"
        },
        "id": "BdL5HxbILkIc",
        "outputId": "7b972430-27a0-4b12-e3b1-c40dcee1ef24"
      },
      "source": [
        "train_data = pd.concat([X_train, y_train], axis=1).reset_index()\n",
        "\n",
        "print_every = 300\n",
        "\n",
        "total_loss = 0\n",
        "all_losses = []\n",
        "\n",
        "CUDA_LAUNCH_BLOCKING=1\n",
        "\n",
        "model.train()\n",
        "\n",
        "for idx, row in train_data.iterrows():\n",
        "    text_parts = preprocess_text(str(row['text']))\n",
        "    label = torch.tensor([row['fake']]).long().to(device)\n",
        "\n",
        "    optimizer.zero_grad()\n",
        "\n",
        "    overall_output = torch.zeros((1, 2)).float().to(device)\n",
        "    for part in text_parts:\n",
        "        if len(part) > 0:\n",
        "            try:\n",
        "                input = part.reshape(-1)[:512].reshape(1, -1)\n",
        "                # print(input.shape)\n",
        "                overall_output += model(input, labels=label)[1].float().to(device)\n",
        "            except Exception as e:\n",
        "                print(str(e))\n",
        "\n",
        "#     overall_output /= len(text_parts)\n",
        "    overall_output = F.softmax(overall_output[0], dim=-1)\n",
        "\n",
        "    if label == 0:\n",
        "        label = torch.tensor([1.0, 0.0]).float().to(device)\n",
        "    elif label == 1:\n",
        "        label = torch.tensor([0.0, 1.0]).float().to(device)\n",
        "\n",
        "    # print(overall_output, label)\n",
        "\n",
        "    loss = criterion(overall_output, label)\n",
        "    total_loss += loss.item()\n",
        "    \n",
        "    loss.backward()\n",
        "    optimizer.step()\n",
        "\n",
        "    if idx % print_every == 0 and idx > 0:\n",
        "        average_loss = total_loss / print_every\n",
        "        print(\"{}/{}. Average loss: {}\".format(idx, len(train_data), average_loss))\n",
        "        all_losses.append(average_loss)\n",
        "        total_loss = 0"
      ],
      "execution_count": 23,
      "outputs": [
        {
          "output_type": "stream",
          "text": [
            "Truncation was not explicitly activated but `max_length` is provided a specific value, please use `truncation=True` to explicitly truncate examples to max length. Defaulting to 'longest_first' truncation strategy. If you encode pairs of sequences (GLUE-style) with the tokenizer you can select this strategy more precisely by providing a specific strategy to `truncation`.\n"
          ],
          "name": "stderr"
        },
        {
          "output_type": "stream",
          "text": [
            "300/35918. Average loss: 0.2455265097071727\n",
            "600/35918. Average loss: 0.2331909940391779\n",
            "900/35918. Average loss: 0.20708012462904055\n",
            "1200/35918. Average loss: 0.19961484629505624\n",
            "1500/35918. Average loss: 0.1453339591016993\n",
            "1800/35918. Average loss: 0.15940541809832212\n",
            "2100/35918. Average loss: 0.13686978284502402\n",
            "2400/35918. Average loss: 0.12172204799079434\n",
            "2700/35918. Average loss: 0.1227492708452822\n",
            "3000/35918. Average loss: 0.11230084976482127\n",
            "3300/35918. Average loss: 0.10584874952396603\n",
            "3600/35918. Average loss: 0.08914518657454512\n",
            "3900/35918. Average loss: 0.107317527859171\n",
            "4200/35918. Average loss: 0.0826079903903883\n",
            "4500/35918. Average loss: 0.099260547241729\n",
            "4800/35918. Average loss: 0.07878864411596927\n",
            "5100/35918. Average loss: 0.08704285294529351\n",
            "5400/35918. Average loss: 0.08919203329420876\n",
            "5700/35918. Average loss: 0.09227990002659225\n",
            "6000/35918. Average loss: 0.07898260863366886\n",
            "6300/35918. Average loss: 0.08399963612259247\n",
            "6600/35918. Average loss: 0.07592441972781672\n",
            "6900/35918. Average loss: 0.09361038812491945\n",
            "7200/35918. Average loss: 0.06642465305232084\n",
            "7500/35918. Average loss: 0.0848676914748891\n",
            "7800/35918. Average loss: 0.09630895364112803\n",
            "8100/35918. Average loss: 0.08279068963170479\n",
            "8400/35918. Average loss: 0.07917232427598113\n",
            "8700/35918. Average loss: 0.09352682895061662\n",
            "9000/35918. Average loss: 0.06930839748590946\n",
            "9300/35918. Average loss: 0.08435259951187467\n",
            "9600/35918. Average loss: 0.07770844241062907\n",
            "9900/35918. Average loss: 0.07563493928086246\n",
            "10200/35918. Average loss: 0.08620766974498566\n",
            "10500/35918. Average loss: 0.07736104137124736\n",
            "10800/35918. Average loss: 0.07872139451915852\n",
            "11100/35918. Average loss: 0.08118007570309298\n",
            "11400/35918. Average loss: 0.0881034198105408\n",
            "11700/35918. Average loss: 0.08612985508613444\n",
            "12000/35918. Average loss: 0.08872097958403175\n",
            "12300/35918. Average loss: 0.0642314655506516\n",
            "12600/35918. Average loss: 0.06782798295943394\n",
            "12900/35918. Average loss: 0.08826978809317855\n",
            "13200/35918. Average loss: 0.07633949990954231\n",
            "13500/35918. Average loss: 0.07436912766454498\n",
            "13800/35918. Average loss: 0.08051321282827151\n",
            "14100/35918. Average loss: 0.07590917525696265\n",
            "14400/35918. Average loss: 0.06326731877035854\n",
            "14700/35918. Average loss: 0.0818379859392644\n",
            "15000/35918. Average loss: 0.07782369969189555\n",
            "15300/35918. Average loss: 0.08098507587387757\n",
            "15600/35918. Average loss: 0.09421155309082829\n",
            "15900/35918. Average loss: 0.09207918271438151\n",
            "16200/35918. Average loss: 0.06987582301433576\n",
            "16500/35918. Average loss: 0.0796947936172243\n",
            "16800/35918. Average loss: 0.07648794203460663\n",
            "17100/35918. Average loss: 0.07081992675894981\n",
            "17400/35918. Average loss: 0.06778583354207512\n",
            "17700/35918. Average loss: 0.07057604522618931\n",
            "18000/35918. Average loss: 0.07545658191966746\n",
            "18300/35918. Average loss: 0.06364719667015985\n",
            "18600/35918. Average loss: 0.07835739783125367\n",
            "18900/35918. Average loss: 0.06817771306035865\n",
            "19200/35918. Average loss: 0.09344534730672421\n",
            "19500/35918. Average loss: 0.07403071784586548\n",
            "19800/35918. Average loss: 0.07796159727813574\n",
            "20100/35918. Average loss: 0.07813783918704757\n",
            "20400/35918. Average loss: 0.07474985063197892\n",
            "20700/35918. Average loss: 0.07393061303517849\n",
            "21000/35918. Average loss: 0.07721852707455885\n",
            "21300/35918. Average loss: 0.07173298303683016\n",
            "21600/35918. Average loss: 0.07597935564939234\n",
            "21900/35918. Average loss: 0.07750105374663235\n",
            "22200/35918. Average loss: 0.08500379360572273\n",
            "22500/35918. Average loss: 0.08183285117919543\n",
            "22800/35918. Average loss: 0.07314391412529707\n",
            "23100/35918. Average loss: 0.0714081499934097\n",
            "23400/35918. Average loss: 0.06830246415532505\n",
            "23700/35918. Average loss: 0.059519999306247275\n",
            "24000/35918. Average loss: 0.08437259281078241\n",
            "24300/35918. Average loss: 0.06645563139055412\n",
            "24600/35918. Average loss: 0.06029306612373451\n",
            "24900/35918. Average loss: 0.0708025632383457\n",
            "25200/35918. Average loss: 0.07304254165974877\n",
            "25500/35918. Average loss: 0.07939620849153774\n",
            "25800/35918. Average loss: 0.07465125369841795\n",
            "26100/35918. Average loss: 0.08103891317252873\n",
            "26400/35918. Average loss: 0.059122781701416896\n",
            "26700/35918. Average loss: 0.07567610349058516\n",
            "27000/35918. Average loss: 0.07498411930494815\n",
            "27300/35918. Average loss: 0.07366595588823353\n",
            "27600/35918. Average loss: 0.06303061865700632\n",
            "27900/35918. Average loss: 0.06776116128106878\n",
            "28200/35918. Average loss: 0.05765785703322914\n",
            "28500/35918. Average loss: 0.06562466426255924\n",
            "28800/35918. Average loss: 0.07371396485193449\n",
            "29100/35918. Average loss: 0.060167443036892414\n",
            "29400/35918. Average loss: 0.056493406378637395\n",
            "29700/35918. Average loss: 0.06848026750553496\n",
            "30000/35918. Average loss: 0.06481654203582063\n",
            "30300/35918. Average loss: 0.07616875848378034\n",
            "30600/35918. Average loss: 0.06504719538965825\n",
            "30900/35918. Average loss: 0.07266828208972584\n",
            "31200/35918. Average loss: 0.06362032324834672\n",
            "31500/35918. Average loss: 0.08398758294206952\n",
            "31800/35918. Average loss: 0.07440669701216848\n",
            "32100/35918. Average loss: 0.078637742881189\n",
            "32400/35918. Average loss: 0.06283511227714067\n",
            "32700/35918. Average loss: 0.08184174045278117\n",
            "33000/35918. Average loss: 0.07235721372400197\n",
            "33300/35918. Average loss: 0.0708416965484139\n",
            "33600/35918. Average loss: 0.06304019386858271\n",
            "33900/35918. Average loss: 0.07664459638966946\n",
            "34200/35918. Average loss: 0.07408037379449221\n",
            "34500/35918. Average loss: 0.07177507049407722\n",
            "34800/35918. Average loss: 0.09121161020569464\n",
            "35100/35918. Average loss: 0.07494850842392528\n",
            "35400/35918. Average loss: 0.06844812031074676\n",
            "35700/35918. Average loss: 0.060390407902583924\n"
          ],
          "name": "stdout"
        }
      ]
    },
    {
      "cell_type": "code",
      "metadata": {
        "colab": {
          "base_uri": "https://localhost:8080/",
          "height": 282
        },
        "id": "SwaCOB00Lr8Q",
        "outputId": "056c514c-92ce-45ad-c749-7bb42c86be6f"
      },
      "source": [
        "torch.save(model.state_dict(), \"model_after_train.pt\")\n",
        "plt.plot(all_losses)\n"
      ],
      "execution_count": 24,
      "outputs": [
        {
          "output_type": "execute_result",
          "data": {
            "text/plain": [
              "[<matplotlib.lines.Line2D at 0x7efda6324f28>]"
            ]
          },
          "metadata": {
            "tags": []
          },
          "execution_count": 24
        },
        {
          "output_type": "display_data",
          "data": {
            "image/png": "[encoded data removed]",
            "text/plain": [
              "<Figure size 432x288 with 1 Axes>"
            ]
          },
          "metadata": {
            "tags": [],
            "needs_background": "light"
          }
        }
      ]
    },
    {
      "cell_type": "code",
      "metadata": {
        "colab": {
          "base_uri": "https://localhost:8080/"
        },
        "id": "VyS05mQ6Lwch",
        "outputId": "e2a65879-a41e-457b-be0a-83ae69ca322a"
      },
      "source": [
        "test_data = pd.concat([X_test, y_test], axis=1).reset_index()\n",
        "\n",
        "total = len(test_data)\n",
        "number_right = 0\n",
        "model.eval()\n",
        "with torch.no_grad():\n",
        "    for idx, row in test_data.iterrows():\n",
        "        text_parts = preprocess_text(str(row['text']))\n",
        "        label = torch.tensor([row['fake']]).float().to(device)\n",
        "        \n",
        "        overall_output = torch.zeros((1,2)).to(device) \n",
        "        for part in text_parts:\n",
        "            if len(part) > 0:\n",
        "                overall_output += model(part.reshape(1, -1))[0]\n",
        "\n",
        "            \n",
        "        overall_output = F.softmax(overall_output[0], dim=-1)\n",
        "            \n",
        "        result = overall_output.max(0)[1].float().item()\n",
        " \n",
        "        if result == label.item():\n",
        "            number_right += 1\n",
        "            \n",
        "        if idx % print_every == 0 and idx > 0:\n",
        "            print(\"{}/{}. Current accuracy: {}\".format(idx, total, number_right / idx))\n",
        "            \n",
        "print(\"Accuracy on test data: {}\".format(number_right / total))"
      ],
      "execution_count": 25,
      "outputs": [
        {
          "output_type": "stream",
          "text": [
            "300/8980. Current accuracy: 0.9633333333333334\n",
            "600/8980. Current accuracy: 0.965\n",
            "900/8980. Current accuracy: 0.9655555555555555\n",
            "1200/8980. Current accuracy: 0.9633333333333334\n",
            "1500/8980. Current accuracy: 0.964\n",
            "1800/8980. Current accuracy: 0.9655555555555555\n",
            "2100/8980. Current accuracy: 0.9666666666666667\n",
            "2400/8980. Current accuracy: 0.9666666666666667\n",
            "2700/8980. Current accuracy: 0.9644444444444444\n",
            "3000/8980. Current accuracy: 0.965\n",
            "3300/8980. Current accuracy: 0.9645454545454546\n",
            "3600/8980. Current accuracy: 0.9644444444444444\n",
            "3900/8980. Current accuracy: 0.9658974358974359\n",
            "4200/8980. Current accuracy: 0.9657142857142857\n",
            "4500/8980. Current accuracy: 0.9653333333333334\n",
            "4800/8980. Current accuracy: 0.9660416666666667\n",
            "5100/8980. Current accuracy: 0.9645098039215686\n",
            "5400/8980. Current accuracy: 0.9648148148148148\n",
            "5700/8980. Current accuracy: 0.964561403508772\n",
            "6000/8980. Current accuracy: 0.964\n",
            "6300/8980. Current accuracy: 0.9647619047619047\n",
            "6600/8980. Current accuracy: 0.9651515151515152\n",
            "6900/8980. Current accuracy: 0.9653623188405797\n",
            "7200/8980. Current accuracy: 0.9658333333333333\n",
            "7500/8980. Current accuracy: 0.9652\n",
            "7800/8980. Current accuracy: 0.9657692307692308\n",
            "8100/8980. Current accuracy: 0.965925925925926\n",
            "8400/8980. Current accuracy: 0.9663095238095238\n",
            "8700/8980. Current accuracy: 0.9663218390804598\n",
            "Accuracy on test data: 0.9665924276169265\n"
          ],
          "name": "stdout"
        }
      ]
    },
    {
      "cell_type": "markdown",
      "metadata": {
        "id": "NEgM05-h963J"
      },
      "source": [
        "1. Whole model trained:\n",
        "  - train average loss: 0.07151\n",
        "  - test accuracy: 0.96\n",
        "\n",
        "2. Classifier-only trained:\n",
        "  - train average loss: 0.06468\n",
        "  - test accuracy: 0.96"
      ]
    }
  ]
}